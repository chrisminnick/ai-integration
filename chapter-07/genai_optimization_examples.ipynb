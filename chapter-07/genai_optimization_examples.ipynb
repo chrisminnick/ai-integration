{
 "cells": [
  {
   "cell_type": "markdown",
   "id": "1da3be7e",
   "metadata": {},
   "source": [
    "# Generative AI Optimization Examples\n",
    "This notebook demonstrates several prompt optimization techniques using the OpenAI API. You'll need an API key to run these examples.\n",
    "\n",
    "> ⚠️ Make sure you have installed the `openai` Python package and set your `OPENAI_API_KEY` environment variable or configure it manually in the notebook."
   ]
  },
  {
   "cell_type": "code",
   "execution_count": 5,
   "id": "48ad1028",
   "metadata": {},
   "outputs": [],
   "source": [
    "# Setup\n",
    "from openai import OpenAI\n",
    "\n",
    "client = OpenAI()\n",
    "import os\n",
    "\n",
    "# Optionally set your API key here if not using environment variables\n",
    "# openai.api_key = 'your-api-key-here'"
   ]
  },
  {
   "cell_type": "markdown",
   "id": "12375e88",
   "metadata": {},
   "source": [
    "## Example 1: Prompt Compression\n",
    "Reducing unnecessary instructions from the input prompt."
   ]
  },
  {
   "cell_type": "code",
   "execution_count": 6,
   "id": "9f1ec79a",
   "metadata": {},
   "outputs": [
    {
     "name": "stdout",
     "output_type": "stream",
     "text": [
      "There are several strategies you can use to reduce the latency of your GPT-4 application in production:\n",
      "\n",
      "1. **Optimization of Model Inference**: Use techniques like quantization, pruning, or distillation to reduce the size of your model without a significant drop in performance. This can help speed up the inference time.\n",
      "\n",
      "2. **Parallel Processing**: If your application performs multiple inferences at once, you might benefit from parallelizing these tasks. This can be achieved by using multi-threading or distributed computing techniques.\n",
      "\n",
      "3. **GPU Utilization**: Ensure your application is utilizing GPU for model inference, as this can significantly speed up the process compared to using a CPU.\n",
      "\n",
      "4. **Using Edge Computing**: If latency is due to network issues, consider deploying your model closer to the source of the data. This can be achieved by using edge computing solutions.\n",
      "\n",
      "5. **Optimizing your Code**: Look for bottlenecks in your code. This can be done through profiling. Once identified, you can optimize these parts for better performance.\n",
      "\n",
      "6. **Caching**: Implement caching mechanisms to avoid redundant computations, especially if your application tends to generate the same responses for certain inputs.\n",
      "\n",
      "Remember, optimizing for latency often involves trade-offs, such as cost or accuracy. It's crucial to understand these trade-offs before implementing any changes.\n"
     ]
    }
   ],
   "source": [
    "# Verbose prompt\n",
    "verbose_prompt = '''\n",
    "You're an intelligent and helpful assistant. Please help me answer this question in a clear, concise, and professional manner.\n",
    "The question is: How can I reduce the latency of my GPT-4 application in production?\n",
    "'''\n",
    "\n",
    "response = client.chat.completions.create(model=\"gpt-4\",\n",
    "messages=[{\"role\": \"user\", \"content\": verbose_prompt}],\n",
    "temperature=0.7)\n",
    "print(response.choices[0].message.content)"
   ]
  },
  {
   "cell_type": "code",
   "execution_count": 7,
   "id": "3f600c83",
   "metadata": {},
   "outputs": [
    {
     "name": "stdout",
     "output_type": "stream",
     "text": [
      "As of the time this text is written, GPT-4 has not been released, so it's not possible to provide specific advice on how to reduce its latency in production. However, here are some general tips that can be applied to any large-scale AI model (like GPT-3 or future GPT-4):\n",
      "\n",
      "1. Optimize the Model: If the model is too complex, it would take more time to generate the output. Simplify the model if possible. Some models can be pruned to reduce their size and complexity without significantly affecting their performance.\n",
      "\n",
      "2. Hardware Acceleration: Use faster and more powerful hardware. GPUs are specifically designed for the kind of parallel processing that AI models require, and they can significantly reduce latency.\n",
      "\n",
      "3. Use Model Quantization: Model quantization is a technique to reduce the precision of weights in the model. This can reduce the computation and storage requirements and improve inference speed.\n",
      "\n",
      "4. Batch Predictions: Instead of making predictions one by one, group them into batches. This can be particularly effective if you're running the model on a GPU.\n",
      "\n",
      "5. Use Edge Computing: If you are working with an IoT system, consider using edge computing to reduce the latency. In edge computing, data processing happens near the source of data. This reduces the time spent transmitting data to and from a server.\n",
      "\n",
      "6. Optimize the Code: Make sure the code that runs the model is as efficient as possible. Avoid unnecessary computations, and use fast algorithms and data structures.\n",
      "\n",
      "7. Use a Lighter Version of the Model: Many state-of-the-art models have lighter versions that are designed to run faster while still offering good performance. These might be a good choice if you need to reduce latency.\n",
      "\n",
      "Remember, always test the changes to ensure the performance of the model is not significantly affected.\n"
     ]
    }
   ],
   "source": [
    "# Compressed prompt\n",
    "compressed_prompt = \"How can I reduce GPT-4 latency in production?\"\n",
    "\n",
    "response = client.chat.completions.create(model=\"gpt-4\",\n",
    "messages=[{\"role\": \"user\", \"content\": compressed_prompt}],\n",
    "temperature=0.7)\n",
    "print(response.choices[0].message.content)"
   ]
  },
  {
   "cell_type": "markdown",
   "id": "6cc1a4fa",
   "metadata": {},
   "source": [
    "## Example 2: Output Compression\n",
    "Limit the size and verbosity of the model's response."
   ]
  },
  {
   "cell_type": "code",
   "execution_count": 8,
   "id": "6e0db0ab",
   "metadata": {},
   "outputs": [
    {
     "name": "stdout",
     "output_type": "stream",
     "text": [
      "Photosynthesis is the process by which green plants, algae, and some bacteria convert light energy, typically from the sun, into chemical energy in the form of glucose. This process is essential for the survival of most living organisms on Earth, as it is the primary way in which energy from the sun is captured and stored in organic compounds that can be used as a source of food and energy.\n",
      "\n",
      "During photosynthesis, plants absorb sunlight through chlorophyll, a green pigment found in their cells. This light energy is used to convert carbon dioxide from the air and water from the soil into glucose and oxygen. The chemical equation for photosynthesis is:\n",
      "\n",
      "6CO2 + 6H2O + light energy → C6H12O6 + 6O2\n",
      "\n",
      "In addition to producing glucose and oxygen, photosynthesis also plays a crucial role in the carbon cycle, as it removes carbon dioxide from the atmosphere and helps regulate the Earth's climate.\n",
      "\n",
      "Photosynthesis is a complex biochemical process that occurs in two main stages: the light-dependent reactions and the Calvin cycle. The light-dependent reactions take place in the thylakoid membranes of chloroplasts and involve the absorption of light energy to produce ATP and NADPH, which are used to power the Calvin cycle. The Calvin cycle occurs in the stroma of chloroplasts and involves the conversion of carbon dioxide into glucose using ATP and NADPH produced during the light-dependent reactions.\n",
      "\n",
      "Overall, photosynthesis is a vital process that not only provides energy for plants and other organisms but also helps maintain the balance of gases in the Earth's atmosphere.\n"
     ]
    }
   ],
   "source": [
    "# Unconstrained response\n",
    "prompt = \"Tell me about photosynthesis.\"\n",
    "response = client.chat.completions.create(model=\"gpt-3.5-turbo\",\n",
    "messages=[{\"role\": \"user\", \"content\": prompt}])\n",
    "print(response.choices[0].message.content)"
   ]
  },
  {
   "cell_type": "code",
   "execution_count": 9,
   "id": "f860abfb",
   "metadata": {},
   "outputs": [
    {
     "name": "stdout",
     "output_type": "stream",
     "text": [
      "- Photosynthesis is the process by which plants, algae, and some bacteria convert light energy into chemical energy to produce glucose.\n",
      "- It occurs in chloroplasts, the organelles within plant cells that contain the pigment chlorophyll.\n",
      "- During photosynthesis, carbon dioxide and water are converted into glucose and oxygen through a series of complex chemical reactions.\n"
     ]
    }
   ],
   "source": [
    "# Constrained response\n",
    "prompt = \"Tell me about photosynthesis.\"\n",
    "response = client.chat.completions.create(model=\"gpt-3.5-turbo\",\n",
    "messages=[\n",
    "    {\"role\": \"system\", \"content\": \"Answer in 3 short bullet points.\"},\n",
    "    {\"role\": \"user\", \"content\": prompt}\n",
    "],\n",
    "max_tokens=100)\n",
    "print(response.choices[0].message.content)"
   ]
  }
 ],
 "metadata": {
  "kernelspec": {
   "display_name": ".venv",
   "language": "python",
   "name": "python3"
  },
  "language_info": {
   "codemirror_mode": {
    "name": "ipython",
    "version": 3
   },
   "file_extension": ".py",
   "mimetype": "text/x-python",
   "name": "python",
   "nbconvert_exporter": "python",
   "pygments_lexer": "ipython3",
   "version": "3.9.6"
  }
 },
 "nbformat": 4,
 "nbformat_minor": 5
}
